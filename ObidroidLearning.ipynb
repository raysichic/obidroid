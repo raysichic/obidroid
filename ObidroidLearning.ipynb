{
 "metadata": {
  "name": ""
 },
 "nbformat": 3,
 "nbformat_minor": 0,
 "worksheets": [
  {
   "cells": [
    {
     "cell_type": "heading",
     "level": 1,
     "metadata": {},
     "source": [
      "Obidroid Learning Notebook"
     ]
    },
    {
     "cell_type": "heading",
     "level": 2,
     "metadata": {},
     "source": [
      "Loading App Data"
     ]
    },
    {
     "cell_type": "markdown",
     "metadata": {},
     "source": [
      "I shall be using the previously exported `exports/appFeatures.csv` data for this notebook"
     ]
    },
    {
     "cell_type": "code",
     "collapsed": false,
     "input": [
      "import pandas as pd\n",
      "import numpy as np\n",
      "from pandas import Series, DataFrame\n",
      "\n",
      "## Load the appFeatures file\n",
      "main_appData = pd.read_csv('exports/appFeatures.csv')"
     ],
     "language": "python",
     "metadata": {},
     "outputs": [],
     "prompt_number": 256
    },
    {
     "cell_type": "code",
     "collapsed": false,
     "input": [
      "# This cell creates a dataframe with the same amount of unfair and fair apps, where the fair apps are randomly selected\n",
      "# TODO - Create a method that implements k-fold validation for app selection\n",
      "import random\n",
      "\n",
      "## create unfair apps dataframe and count\n",
      "df_unfair = main_appData[main_appData.appLabel == 'unfair']\n",
      "unfair_count = df_unfair.appLabel.count()\n",
      "\n",
      "## get same number of random fair apps\n",
      "df_randomly_fair = main_appData[main_appData.appLabel == 'fair'].ix[random.sample(main_appData[main_appData.appLabel == 'fair'].index, unfair_count)]\n",
      "#print df_randomly_fair.appLabel.count()\n",
      "\n",
      "\n",
      "# append the newly created dataframe of unfair * 2 rows\n",
      "appData = df_randomly_fair.append(df_unfair)\n",
      "\n",
      "# shuffle the dataframe\n",
      "appData = appData.ix[np.random.permutation(appData.index)]\n",
      "\n",
      "appData.columns"
     ],
     "language": "python",
     "metadata": {},
     "outputs": [
      {
       "metadata": {},
       "output_type": "pyout",
       "prompt_number": 293,
       "text": [
        "Index([u'appName', u'adjectiveCount', u'avgRating', u'countCapital', u'exclamationCount', u'hasDeveloperEmail', u'hasDeveloperWebsite', u'Unnamed: 7', u'hasPrivacy', u'installs', u'price', u'revSent', u'revLength', u'appLabel'], dtype='object')"
       ]
      }
     ],
     "prompt_number": 293
    },
    {
     "cell_type": "code",
     "collapsed": false,
     "input": [
      "\n",
      "\n",
      "def trimDataFrame(df):\n",
      "    \"\"\"\n",
      "    Lets create a new dataframe for appFeatures and appLabels\n",
      "    \"\"\"\n",
      "\n",
      "    ## for App Features\n",
      "    appCols = set(df.columns)\n",
      "    appCols.remove('appName') # remove app Names column\n",
      "    appCols.remove('Unnamed: 7') # removing a weird unnamed column\n",
      "    appCols.remove('appLabel') # removing the label column\n",
      "    appCols.remove('price') # removing price since most of the apps are free\n",
      "    appCols.remove('exclamationCount') # remove exclamation count from features, as all values seemed to be 0\n",
      "    \n",
      "    df_trim = df[list(appCols)]\n",
      "    \n",
      "    # -- boolean\n",
      "    df_trim['hasPrivacy'].astype(bool)\n",
      "    df_trim['hasDeveloperEmail'].astype(bool)\n",
      "    df_trim['hasDeveloperWebsite'].astype(bool)\n",
      "    \n",
      "    # -- integer\n",
      "    df_trim['adjectiveCount'].astype(int)\n",
      "    df_trim['countCapital'].astype(int)\n",
      "    df_trim['installs'].astype(int)\n",
      "    df_trim['revSent'].astype(int)\n",
      "    df_trim['revLength'].astype(int)\n",
      "    \n",
      "    # -- float\n",
      "    df_trim['avgRating'].astype(float)\n",
      "    \n",
      "    return df_trim"
     ],
     "language": "python",
     "metadata": {},
     "outputs": [],
     "prompt_number": 258
    },
    {
     "cell_type": "markdown",
     "metadata": {},
     "source": [
      "Now, I want to explicitly set types to all my columns as a better practice"
     ]
    },
    {
     "cell_type": "code",
     "collapsed": false,
     "input": [
      "# Explicitly casting column types in appFeatures dataframe\n",
      "appFeatures = trimDataFrame(main_appData)\n",
      "\n",
      "\n",
      "# -- boolean\n",
      "appFeatures['hasPrivacy'].astype(bool)\n",
      "appFeatures['hasDeveloperEmail'].astype(bool)\n",
      "appFeatures['hasDeveloperWebsite'].astype(bool)\n",
      "\n",
      "# -- integer\n",
      "appFeatures['adjectiveCount'].astype(int)\n",
      "appFeatures['countCapital'].astype(int)\n",
      "appFeatures['installs'].astype(int)\n",
      "appFeatures['revSent'].astype(int)\n",
      "appFeatures['revLength'].astype(int)\n",
      "\n",
      "# -- float\n",
      "appFeatures['avgRating'].astype(float)\n",
      "\n",
      "\n",
      "appFeatures"
     ],
     "language": "python",
     "metadata": {},
     "outputs": [
      {
       "html": [
        "<div style=\"max-height:1000px;max-width:1500px;overflow:auto;\">\n",
        "<table border=\"1\" class=\"dataframe\">\n",
        "  <thead>\n",
        "    <tr style=\"text-align: right;\">\n",
        "      <th></th>\n",
        "      <th>adjectiveCount</th>\n",
        "      <th>hasPrivacy</th>\n",
        "      <th>revLength</th>\n",
        "      <th>countCapital</th>\n",
        "      <th>hasDeveloperWebsite</th>\n",
        "      <th>installs</th>\n",
        "      <th>hasDeveloperEmail</th>\n",
        "      <th>avgRating</th>\n",
        "      <th>revSent</th>\n",
        "    </tr>\n",
        "  </thead>\n",
        "  <tbody>\n",
        "    <tr>\n",
        "      <th>0 </th>\n",
        "      <td>  4</td>\n",
        "      <td>  True</td>\n",
        "      <td>  601</td>\n",
        "      <td>  1</td>\n",
        "      <td>  True</td>\n",
        "      <td> 30000000</td>\n",
        "      <td>  True</td>\n",
        "      <td> 4.051</td>\n",
        "      <td> -3</td>\n",
        "    </tr>\n",
        "    <tr>\n",
        "      <th>1 </th>\n",
        "      <td> 13</td>\n",
        "      <td>  True</td>\n",
        "      <td> 1139</td>\n",
        "      <td> 11</td>\n",
        "      <td>  True</td>\n",
        "      <td> 30000000</td>\n",
        "      <td>  True</td>\n",
        "      <td> 4.351</td>\n",
        "      <td>  2</td>\n",
        "    </tr>\n",
        "    <tr>\n",
        "      <th>2 </th>\n",
        "      <td> 23</td>\n",
        "      <td>  True</td>\n",
        "      <td> 2223</td>\n",
        "      <td> 20</td>\n",
        "      <td>  True</td>\n",
        "      <td>  3000000</td>\n",
        "      <td> False</td>\n",
        "      <td> 4.555</td>\n",
        "      <td> -4</td>\n",
        "    </tr>\n",
        "    <tr>\n",
        "      <th>3 </th>\n",
        "      <td> 10</td>\n",
        "      <td> False</td>\n",
        "      <td>  804</td>\n",
        "      <td>  5</td>\n",
        "      <td>  True</td>\n",
        "      <td> 30000000</td>\n",
        "      <td>  True</td>\n",
        "      <td> 4.623</td>\n",
        "      <td>  8</td>\n",
        "    </tr>\n",
        "    <tr>\n",
        "      <th>4 </th>\n",
        "      <td> 22</td>\n",
        "      <td>  True</td>\n",
        "      <td> 1867</td>\n",
        "      <td> 16</td>\n",
        "      <td>  True</td>\n",
        "      <td>  7500000</td>\n",
        "      <td> False</td>\n",
        "      <td> 4.046</td>\n",
        "      <td>-11</td>\n",
        "    </tr>\n",
        "    <tr>\n",
        "      <th>5 </th>\n",
        "      <td> 18</td>\n",
        "      <td> False</td>\n",
        "      <td> 1162</td>\n",
        "      <td>  6</td>\n",
        "      <td>  True</td>\n",
        "      <td> 30000000</td>\n",
        "      <td>  True</td>\n",
        "      <td> 4.595</td>\n",
        "      <td>  1</td>\n",
        "    </tr>\n",
        "    <tr>\n",
        "      <th>6 </th>\n",
        "      <td> 18</td>\n",
        "      <td>  True</td>\n",
        "      <td> 1522</td>\n",
        "      <td> 60</td>\n",
        "      <td>  True</td>\n",
        "      <td> 30000000</td>\n",
        "      <td>  True</td>\n",
        "      <td> 4.526</td>\n",
        "      <td> -4</td>\n",
        "    </tr>\n",
        "    <tr>\n",
        "      <th>7 </th>\n",
        "      <td> 13</td>\n",
        "      <td> False</td>\n",
        "      <td> 1895</td>\n",
        "      <td> 19</td>\n",
        "      <td>  True</td>\n",
        "      <td> 30000000</td>\n",
        "      <td> False</td>\n",
        "      <td> 4.039</td>\n",
        "      <td> -5</td>\n",
        "    </tr>\n",
        "    <tr>\n",
        "      <th>8 </th>\n",
        "      <td> 11</td>\n",
        "      <td>  True</td>\n",
        "      <td> 1195</td>\n",
        "      <td> 10</td>\n",
        "      <td>  True</td>\n",
        "      <td>  3000000</td>\n",
        "      <td>  True</td>\n",
        "      <td> 4.400</td>\n",
        "      <td> -2</td>\n",
        "    </tr>\n",
        "    <tr>\n",
        "      <th>9 </th>\n",
        "      <td> 19</td>\n",
        "      <td>  True</td>\n",
        "      <td> 1488</td>\n",
        "      <td> 11</td>\n",
        "      <td>  True</td>\n",
        "      <td>   300000</td>\n",
        "      <td>  True</td>\n",
        "      <td> 3.935</td>\n",
        "      <td> -4</td>\n",
        "    </tr>\n",
        "    <tr>\n",
        "      <th>10</th>\n",
        "      <td> 18</td>\n",
        "      <td> False</td>\n",
        "      <td> 1864</td>\n",
        "      <td> 35</td>\n",
        "      <td>  True</td>\n",
        "      <td>  3000000</td>\n",
        "      <td>  True</td>\n",
        "      <td> 4.075</td>\n",
        "      <td> -5</td>\n",
        "    </tr>\n",
        "    <tr>\n",
        "      <th>11</th>\n",
        "      <td> 19</td>\n",
        "      <td> False</td>\n",
        "      <td> 2049</td>\n",
        "      <td> 14</td>\n",
        "      <td>  True</td>\n",
        "      <td>   750000</td>\n",
        "      <td> False</td>\n",
        "      <td> 3.983</td>\n",
        "      <td> -2</td>\n",
        "    </tr>\n",
        "    <tr>\n",
        "      <th>12</th>\n",
        "      <td>  8</td>\n",
        "      <td> False</td>\n",
        "      <td>  417</td>\n",
        "      <td>  2</td>\n",
        "      <td>  True</td>\n",
        "      <td> 30000000</td>\n",
        "      <td>  True</td>\n",
        "      <td> 4.238</td>\n",
        "      <td>  1</td>\n",
        "    </tr>\n",
        "    <tr>\n",
        "      <th>13</th>\n",
        "      <td> 16</td>\n",
        "      <td> False</td>\n",
        "      <td> 1276</td>\n",
        "      <td> 11</td>\n",
        "      <td>  True</td>\n",
        "      <td>  3000000</td>\n",
        "      <td>  True</td>\n",
        "      <td> 3.915</td>\n",
        "      <td> -3</td>\n",
        "    </tr>\n",
        "    <tr>\n",
        "      <th>14</th>\n",
        "      <td> 13</td>\n",
        "      <td> False</td>\n",
        "      <td> 1210</td>\n",
        "      <td> 12</td>\n",
        "      <td>  True</td>\n",
        "      <td>   750000</td>\n",
        "      <td>  True</td>\n",
        "      <td> 4.050</td>\n",
        "      <td> -3</td>\n",
        "    </tr>\n",
        "    <tr>\n",
        "      <th>15</th>\n",
        "      <td> 20</td>\n",
        "      <td>  True</td>\n",
        "      <td> 2038</td>\n",
        "      <td> 24</td>\n",
        "      <td>  True</td>\n",
        "      <td>   750000</td>\n",
        "      <td>  True</td>\n",
        "      <td> 3.795</td>\n",
        "      <td> -7</td>\n",
        "    </tr>\n",
        "    <tr>\n",
        "      <th>16</th>\n",
        "      <td> 12</td>\n",
        "      <td> False</td>\n",
        "      <td> 1044</td>\n",
        "      <td> 10</td>\n",
        "      <td>  True</td>\n",
        "      <td>  7500000</td>\n",
        "      <td>  True</td>\n",
        "      <td> 3.997</td>\n",
        "      <td>  1</td>\n",
        "    </tr>\n",
        "    <tr>\n",
        "      <th>17</th>\n",
        "      <td> 15</td>\n",
        "      <td>  True</td>\n",
        "      <td> 1245</td>\n",
        "      <td> 13</td>\n",
        "      <td>  True</td>\n",
        "      <td>  3000000</td>\n",
        "      <td>  True</td>\n",
        "      <td> 3.212</td>\n",
        "      <td> -5</td>\n",
        "    </tr>\n",
        "    <tr>\n",
        "      <th>18</th>\n",
        "      <td>  2</td>\n",
        "      <td> False</td>\n",
        "      <td>  225</td>\n",
        "      <td>  2</td>\n",
        "      <td>  True</td>\n",
        "      <td>  3000000</td>\n",
        "      <td>  True</td>\n",
        "      <td> 2.611</td>\n",
        "      <td> -1</td>\n",
        "    </tr>\n",
        "    <tr>\n",
        "      <th>19</th>\n",
        "      <td> 15</td>\n",
        "      <td> False</td>\n",
        "      <td> 1120</td>\n",
        "      <td> 10</td>\n",
        "      <td>  True</td>\n",
        "      <td> 30000000</td>\n",
        "      <td>  True</td>\n",
        "      <td> 4.547</td>\n",
        "      <td> -3</td>\n",
        "    </tr>\n",
        "    <tr>\n",
        "      <th>20</th>\n",
        "      <td> 22</td>\n",
        "      <td>  True</td>\n",
        "      <td> 1406</td>\n",
        "      <td> 11</td>\n",
        "      <td>  True</td>\n",
        "      <td>  3000000</td>\n",
        "      <td>  True</td>\n",
        "      <td> 2.671</td>\n",
        "      <td>  4</td>\n",
        "    </tr>\n",
        "    <tr>\n",
        "      <th>21</th>\n",
        "      <td> 13</td>\n",
        "      <td>  True</td>\n",
        "      <td> 1063</td>\n",
        "      <td> 10</td>\n",
        "      <td>  True</td>\n",
        "      <td>   750000</td>\n",
        "      <td> False</td>\n",
        "      <td> 4.045</td>\n",
        "      <td> -3</td>\n",
        "    </tr>\n",
        "    <tr>\n",
        "      <th>22</th>\n",
        "      <td>  7</td>\n",
        "      <td> False</td>\n",
        "      <td>  855</td>\n",
        "      <td> 10</td>\n",
        "      <td>  True</td>\n",
        "      <td>   750000</td>\n",
        "      <td>  True</td>\n",
        "      <td> 3.555</td>\n",
        "      <td> -9</td>\n",
        "    </tr>\n",
        "    <tr>\n",
        "      <th>23</th>\n",
        "      <td> 17</td>\n",
        "      <td>  True</td>\n",
        "      <td> 2147</td>\n",
        "      <td> 38</td>\n",
        "      <td>  True</td>\n",
        "      <td>  3000000</td>\n",
        "      <td>  True</td>\n",
        "      <td> 4.590</td>\n",
        "      <td> -5</td>\n",
        "    </tr>\n",
        "    <tr>\n",
        "      <th>24</th>\n",
        "      <td> 12</td>\n",
        "      <td>  True</td>\n",
        "      <td> 1189</td>\n",
        "      <td> 13</td>\n",
        "      <td>  True</td>\n",
        "      <td>  7500000</td>\n",
        "      <td>  True</td>\n",
        "      <td> 4.258</td>\n",
        "      <td> -9</td>\n",
        "    </tr>\n",
        "    <tr>\n",
        "      <th>25</th>\n",
        "      <td> 19</td>\n",
        "      <td> False</td>\n",
        "      <td> 1804</td>\n",
        "      <td>  8</td>\n",
        "      <td>  True</td>\n",
        "      <td>   750000</td>\n",
        "      <td>  True</td>\n",
        "      <td> 4.428</td>\n",
        "      <td>-10</td>\n",
        "    </tr>\n",
        "    <tr>\n",
        "      <th>26</th>\n",
        "      <td> 26</td>\n",
        "      <td> False</td>\n",
        "      <td> 1514</td>\n",
        "      <td>  5</td>\n",
        "      <td>  True</td>\n",
        "      <td>  3000000</td>\n",
        "      <td>  True</td>\n",
        "      <td> 4.401</td>\n",
        "      <td>  5</td>\n",
        "    </tr>\n",
        "    <tr>\n",
        "      <th>27</th>\n",
        "      <td> 12</td>\n",
        "      <td>  True</td>\n",
        "      <td> 1272</td>\n",
        "      <td> 12</td>\n",
        "      <td>  True</td>\n",
        "      <td>  3000000</td>\n",
        "      <td>  True</td>\n",
        "      <td> 4.275</td>\n",
        "      <td> -6</td>\n",
        "    </tr>\n",
        "    <tr>\n",
        "      <th>28</th>\n",
        "      <td> 17</td>\n",
        "      <td>  True</td>\n",
        "      <td> 1413</td>\n",
        "      <td> 14</td>\n",
        "      <td>  True</td>\n",
        "      <td>   750000</td>\n",
        "      <td>  True</td>\n",
        "      <td> 4.149</td>\n",
        "      <td> -8</td>\n",
        "    </tr>\n",
        "    <tr>\n",
        "      <th>29</th>\n",
        "      <td>  7</td>\n",
        "      <td>  True</td>\n",
        "      <td>  610</td>\n",
        "      <td>  2</td>\n",
        "      <td>  True</td>\n",
        "      <td>   300000</td>\n",
        "      <td>  True</td>\n",
        "      <td> 4.396</td>\n",
        "      <td> -3</td>\n",
        "    </tr>\n",
        "    <tr>\n",
        "      <th>30</th>\n",
        "      <td> 14</td>\n",
        "      <td>  True</td>\n",
        "      <td> 1145</td>\n",
        "      <td>  5</td>\n",
        "      <td>  True</td>\n",
        "      <td>  3000000</td>\n",
        "      <td>  True</td>\n",
        "      <td> 4.113</td>\n",
        "      <td>  2</td>\n",
        "    </tr>\n",
        "    <tr>\n",
        "      <th>31</th>\n",
        "      <td> 14</td>\n",
        "      <td> False</td>\n",
        "      <td> 1413</td>\n",
        "      <td> 14</td>\n",
        "      <td>  True</td>\n",
        "      <td>    30000</td>\n",
        "      <td>  True</td>\n",
        "      <td> 4.240</td>\n",
        "      <td>  2</td>\n",
        "    </tr>\n",
        "    <tr>\n",
        "      <th>32</th>\n",
        "      <td>  2</td>\n",
        "      <td>  True</td>\n",
        "      <td>  573</td>\n",
        "      <td> 14</td>\n",
        "      <td>  True</td>\n",
        "      <td>   300000</td>\n",
        "      <td>  True</td>\n",
        "      <td> 4.241</td>\n",
        "      <td> -4</td>\n",
        "    </tr>\n",
        "    <tr>\n",
        "      <th>33</th>\n",
        "      <td> 12</td>\n",
        "      <td>  True</td>\n",
        "      <td> 1387</td>\n",
        "      <td> 16</td>\n",
        "      <td>  True</td>\n",
        "      <td>  3000000</td>\n",
        "      <td>  True</td>\n",
        "      <td> 3.989</td>\n",
        "      <td> -6</td>\n",
        "    </tr>\n",
        "    <tr>\n",
        "      <th>34</th>\n",
        "      <td> 19</td>\n",
        "      <td>  True</td>\n",
        "      <td> 1336</td>\n",
        "      <td>  7</td>\n",
        "      <td>  True</td>\n",
        "      <td>    75000</td>\n",
        "      <td>  True</td>\n",
        "      <td> 4.310</td>\n",
        "      <td> -7</td>\n",
        "    </tr>\n",
        "    <tr>\n",
        "      <th>35</th>\n",
        "      <td>  7</td>\n",
        "      <td>  True</td>\n",
        "      <td>  817</td>\n",
        "      <td>  5</td>\n",
        "      <td>  True</td>\n",
        "      <td>  3000000</td>\n",
        "      <td>  True</td>\n",
        "      <td> 4.451</td>\n",
        "      <td>  5</td>\n",
        "    </tr>\n",
        "    <tr>\n",
        "      <th>36</th>\n",
        "      <td> 29</td>\n",
        "      <td>  True</td>\n",
        "      <td> 2205</td>\n",
        "      <td> 16</td>\n",
        "      <td>  True</td>\n",
        "      <td>   300000</td>\n",
        "      <td>  True</td>\n",
        "      <td> 3.916</td>\n",
        "      <td> -9</td>\n",
        "    </tr>\n",
        "    <tr>\n",
        "      <th>37</th>\n",
        "      <td>  7</td>\n",
        "      <td> False</td>\n",
        "      <td>  541</td>\n",
        "      <td>  3</td>\n",
        "      <td>  True</td>\n",
        "      <td>   300000</td>\n",
        "      <td>  True</td>\n",
        "      <td> 4.761</td>\n",
        "      <td>  1</td>\n",
        "    </tr>\n",
        "    <tr>\n",
        "      <th>38</th>\n",
        "      <td>  6</td>\n",
        "      <td> False</td>\n",
        "      <td>  310</td>\n",
        "      <td>  1</td>\n",
        "      <td>  True</td>\n",
        "      <td>   300000</td>\n",
        "      <td>  True</td>\n",
        "      <td> 4.158</td>\n",
        "      <td>  0</td>\n",
        "    </tr>\n",
        "    <tr>\n",
        "      <th>39</th>\n",
        "      <td>  6</td>\n",
        "      <td> False</td>\n",
        "      <td>  880</td>\n",
        "      <td>  4</td>\n",
        "      <td>  True</td>\n",
        "      <td>   300000</td>\n",
        "      <td>  True</td>\n",
        "      <td> 2.972</td>\n",
        "      <td> -4</td>\n",
        "    </tr>\n",
        "    <tr>\n",
        "      <th>40</th>\n",
        "      <td>  5</td>\n",
        "      <td> False</td>\n",
        "      <td>  583</td>\n",
        "      <td>  4</td>\n",
        "      <td>  True</td>\n",
        "      <td>   300000</td>\n",
        "      <td>  True</td>\n",
        "      <td> 3.903</td>\n",
        "      <td> -6</td>\n",
        "    </tr>\n",
        "    <tr>\n",
        "      <th>41</th>\n",
        "      <td> 19</td>\n",
        "      <td> False</td>\n",
        "      <td> 1888</td>\n",
        "      <td> 20</td>\n",
        "      <td>  True</td>\n",
        "      <td>  3000000</td>\n",
        "      <td>  True</td>\n",
        "      <td> 3.433</td>\n",
        "      <td> -9</td>\n",
        "    </tr>\n",
        "    <tr>\n",
        "      <th>42</th>\n",
        "      <td> 13</td>\n",
        "      <td> False</td>\n",
        "      <td> 1122</td>\n",
        "      <td>  4</td>\n",
        "      <td>  True</td>\n",
        "      <td>  3000000</td>\n",
        "      <td>  True</td>\n",
        "      <td> 4.412</td>\n",
        "      <td> -3</td>\n",
        "    </tr>\n",
        "    <tr>\n",
        "      <th>43</th>\n",
        "      <td> 15</td>\n",
        "      <td>  True</td>\n",
        "      <td> 1613</td>\n",
        "      <td> 21</td>\n",
        "      <td>  True</td>\n",
        "      <td>  3000000</td>\n",
        "      <td> False</td>\n",
        "      <td> 4.461</td>\n",
        "      <td> 15</td>\n",
        "    </tr>\n",
        "    <tr>\n",
        "      <th>44</th>\n",
        "      <td>  5</td>\n",
        "      <td> False</td>\n",
        "      <td> 1014</td>\n",
        "      <td> 11</td>\n",
        "      <td> False</td>\n",
        "      <td>   300000</td>\n",
        "      <td>  True</td>\n",
        "      <td> 3.564</td>\n",
        "      <td> -2</td>\n",
        "    </tr>\n",
        "    <tr>\n",
        "      <th>45</th>\n",
        "      <td>  8</td>\n",
        "      <td> False</td>\n",
        "      <td> 1115</td>\n",
        "      <td>  6</td>\n",
        "      <td> False</td>\n",
        "      <td>  3000000</td>\n",
        "      <td>  True</td>\n",
        "      <td> 4.131</td>\n",
        "      <td>  5</td>\n",
        "    </tr>\n",
        "    <tr>\n",
        "      <th>46</th>\n",
        "      <td>  6</td>\n",
        "      <td>  True</td>\n",
        "      <td>  437</td>\n",
        "      <td>  8</td>\n",
        "      <td>  True</td>\n",
        "      <td>    30000</td>\n",
        "      <td>  True</td>\n",
        "      <td> 3.550</td>\n",
        "      <td> -1</td>\n",
        "    </tr>\n",
        "    <tr>\n",
        "      <th>47</th>\n",
        "      <td>  2</td>\n",
        "      <td>  True</td>\n",
        "      <td>  307</td>\n",
        "      <td>  0</td>\n",
        "      <td>  True</td>\n",
        "      <td>  3000000</td>\n",
        "      <td>  True</td>\n",
        "      <td> 4.435</td>\n",
        "      <td>  1</td>\n",
        "    </tr>\n",
        "    <tr>\n",
        "      <th>48</th>\n",
        "      <td> 13</td>\n",
        "      <td>  True</td>\n",
        "      <td>  991</td>\n",
        "      <td>  4</td>\n",
        "      <td>  True</td>\n",
        "      <td>   300000</td>\n",
        "      <td>  True</td>\n",
        "      <td> 4.233</td>\n",
        "      <td> -3</td>\n",
        "    </tr>\n",
        "    <tr>\n",
        "      <th>49</th>\n",
        "      <td>  7</td>\n",
        "      <td> False</td>\n",
        "      <td>  578</td>\n",
        "      <td>  6</td>\n",
        "      <td>  True</td>\n",
        "      <td>  3000000</td>\n",
        "      <td>  True</td>\n",
        "      <td> 3.975</td>\n",
        "      <td>  1</td>\n",
        "    </tr>\n",
        "    <tr>\n",
        "      <th>50</th>\n",
        "      <td> 10</td>\n",
        "      <td>  True</td>\n",
        "      <td>  962</td>\n",
        "      <td>  7</td>\n",
        "      <td>  True</td>\n",
        "      <td>   300000</td>\n",
        "      <td>  True</td>\n",
        "      <td> 3.926</td>\n",
        "      <td>  4</td>\n",
        "    </tr>\n",
        "    <tr>\n",
        "      <th>51</th>\n",
        "      <td> 13</td>\n",
        "      <td> False</td>\n",
        "      <td> 1267</td>\n",
        "      <td>  6</td>\n",
        "      <td>  True</td>\n",
        "      <td>  3000000</td>\n",
        "      <td>  True</td>\n",
        "      <td> 4.590</td>\n",
        "      <td>  2</td>\n",
        "    </tr>\n",
        "    <tr>\n",
        "      <th>52</th>\n",
        "      <td>  9</td>\n",
        "      <td> False</td>\n",
        "      <td> 1300</td>\n",
        "      <td>  8</td>\n",
        "      <td>  True</td>\n",
        "      <td>   300000</td>\n",
        "      <td>  True</td>\n",
        "      <td> 3.601</td>\n",
        "      <td> -9</td>\n",
        "    </tr>\n",
        "    <tr>\n",
        "      <th>53</th>\n",
        "      <td> 16</td>\n",
        "      <td> False</td>\n",
        "      <td> 1051</td>\n",
        "      <td> 12</td>\n",
        "      <td>  True</td>\n",
        "      <td>   300000</td>\n",
        "      <td>  True</td>\n",
        "      <td> 3.701</td>\n",
        "      <td>  3</td>\n",
        "    </tr>\n",
        "    <tr>\n",
        "      <th>54</th>\n",
        "      <td> 16</td>\n",
        "      <td>  True</td>\n",
        "      <td> 1822</td>\n",
        "      <td> 10</td>\n",
        "      <td>  True</td>\n",
        "      <td>   300000</td>\n",
        "      <td>  True</td>\n",
        "      <td> 2.931</td>\n",
        "      <td>-13</td>\n",
        "    </tr>\n",
        "    <tr>\n",
        "      <th>55</th>\n",
        "      <td>  7</td>\n",
        "      <td> False</td>\n",
        "      <td>  535</td>\n",
        "      <td>  0</td>\n",
        "      <td>  True</td>\n",
        "      <td>  3000000</td>\n",
        "      <td>  True</td>\n",
        "      <td> 4.564</td>\n",
        "      <td>  0</td>\n",
        "    </tr>\n",
        "    <tr>\n",
        "      <th>56</th>\n",
        "      <td> 11</td>\n",
        "      <td> False</td>\n",
        "      <td> 1075</td>\n",
        "      <td>  8</td>\n",
        "      <td>  True</td>\n",
        "      <td>  7500000</td>\n",
        "      <td>  True</td>\n",
        "      <td> 4.179</td>\n",
        "      <td> -7</td>\n",
        "    </tr>\n",
        "    <tr>\n",
        "      <th>57</th>\n",
        "      <td>  6</td>\n",
        "      <td>  True</td>\n",
        "      <td>  691</td>\n",
        "      <td>  4</td>\n",
        "      <td>  True</td>\n",
        "      <td>  3000000</td>\n",
        "      <td>  True</td>\n",
        "      <td> 4.466</td>\n",
        "      <td>  7</td>\n",
        "    </tr>\n",
        "    <tr>\n",
        "      <th>58</th>\n",
        "      <td>  7</td>\n",
        "      <td>  True</td>\n",
        "      <td>  991</td>\n",
        "      <td>  5</td>\n",
        "      <td>  True</td>\n",
        "      <td>   750000</td>\n",
        "      <td> False</td>\n",
        "      <td> 4.340</td>\n",
        "      <td> -3</td>\n",
        "    </tr>\n",
        "    <tr>\n",
        "      <th>59</th>\n",
        "      <td>  7</td>\n",
        "      <td> False</td>\n",
        "      <td>  805</td>\n",
        "      <td> 14</td>\n",
        "      <td>  True</td>\n",
        "      <td>   300000</td>\n",
        "      <td>  True</td>\n",
        "      <td> 4.539</td>\n",
        "      <td>  3</td>\n",
        "    </tr>\n",
        "    <tr>\n",
        "      <th></th>\n",
        "      <td>...</td>\n",
        "      <td>...</td>\n",
        "      <td>...</td>\n",
        "      <td>...</td>\n",
        "      <td>...</td>\n",
        "      <td>...</td>\n",
        "      <td>...</td>\n",
        "      <td>...</td>\n",
        "      <td>...</td>\n",
        "    </tr>\n",
        "  </tbody>\n",
        "</table>\n",
        "<p>323 rows \u00d7 9 columns</p>\n",
        "</div>"
       ],
       "metadata": {},
       "output_type": "pyout",
       "prompt_number": 259,
       "text": [
        "    adjectiveCount hasPrivacy  revLength  countCapital hasDeveloperWebsite  \\\n",
        "0                4       True        601             1                True   \n",
        "1               13       True       1139            11                True   \n",
        "2               23       True       2223            20                True   \n",
        "3               10      False        804             5                True   \n",
        "4               22       True       1867            16                True   \n",
        "5               18      False       1162             6                True   \n",
        "6               18       True       1522            60                True   \n",
        "7               13      False       1895            19                True   \n",
        "8               11       True       1195            10                True   \n",
        "9               19       True       1488            11                True   \n",
        "10              18      False       1864            35                True   \n",
        "11              19      False       2049            14                True   \n",
        "12               8      False        417             2                True   \n",
        "13              16      False       1276            11                True   \n",
        "14              13      False       1210            12                True   \n",
        "15              20       True       2038            24                True   \n",
        "16              12      False       1044            10                True   \n",
        "17              15       True       1245            13                True   \n",
        "18               2      False        225             2                True   \n",
        "19              15      False       1120            10                True   \n",
        "20              22       True       1406            11                True   \n",
        "21              13       True       1063            10                True   \n",
        "22               7      False        855            10                True   \n",
        "23              17       True       2147            38                True   \n",
        "24              12       True       1189            13                True   \n",
        "25              19      False       1804             8                True   \n",
        "26              26      False       1514             5                True   \n",
        "27              12       True       1272            12                True   \n",
        "28              17       True       1413            14                True   \n",
        "29               7       True        610             2                True   \n",
        "30              14       True       1145             5                True   \n",
        "31              14      False       1413            14                True   \n",
        "32               2       True        573            14                True   \n",
        "33              12       True       1387            16                True   \n",
        "34              19       True       1336             7                True   \n",
        "35               7       True        817             5                True   \n",
        "36              29       True       2205            16                True   \n",
        "37               7      False        541             3                True   \n",
        "38               6      False        310             1                True   \n",
        "39               6      False        880             4                True   \n",
        "40               5      False        583             4                True   \n",
        "41              19      False       1888            20                True   \n",
        "42              13      False       1122             4                True   \n",
        "43              15       True       1613            21                True   \n",
        "44               5      False       1014            11               False   \n",
        "45               8      False       1115             6               False   \n",
        "46               6       True        437             8                True   \n",
        "47               2       True        307             0                True   \n",
        "48              13       True        991             4                True   \n",
        "49               7      False        578             6                True   \n",
        "50              10       True        962             7                True   \n",
        "51              13      False       1267             6                True   \n",
        "52               9      False       1300             8                True   \n",
        "53              16      False       1051            12                True   \n",
        "54              16       True       1822            10                True   \n",
        "55               7      False        535             0                True   \n",
        "56              11      False       1075             8                True   \n",
        "57               6       True        691             4                True   \n",
        "58               7       True        991             5                True   \n",
        "59               7      False        805            14                True   \n",
        "               ...        ...        ...           ...                 ...   \n",
        "\n",
        "    installs hasDeveloperEmail  avgRating  revSent  \n",
        "0   30000000              True      4.051       -3  \n",
        "1   30000000              True      4.351        2  \n",
        "2    3000000             False      4.555       -4  \n",
        "3   30000000              True      4.623        8  \n",
        "4    7500000             False      4.046      -11  \n",
        "5   30000000              True      4.595        1  \n",
        "6   30000000              True      4.526       -4  \n",
        "7   30000000             False      4.039       -5  \n",
        "8    3000000              True      4.400       -2  \n",
        "9     300000              True      3.935       -4  \n",
        "10   3000000              True      4.075       -5  \n",
        "11    750000             False      3.983       -2  \n",
        "12  30000000              True      4.238        1  \n",
        "13   3000000              True      3.915       -3  \n",
        "14    750000              True      4.050       -3  \n",
        "15    750000              True      3.795       -7  \n",
        "16   7500000              True      3.997        1  \n",
        "17   3000000              True      3.212       -5  \n",
        "18   3000000              True      2.611       -1  \n",
        "19  30000000              True      4.547       -3  \n",
        "20   3000000              True      2.671        4  \n",
        "21    750000             False      4.045       -3  \n",
        "22    750000              True      3.555       -9  \n",
        "23   3000000              True      4.590       -5  \n",
        "24   7500000              True      4.258       -9  \n",
        "25    750000              True      4.428      -10  \n",
        "26   3000000              True      4.401        5  \n",
        "27   3000000              True      4.275       -6  \n",
        "28    750000              True      4.149       -8  \n",
        "29    300000              True      4.396       -3  \n",
        "30   3000000              True      4.113        2  \n",
        "31     30000              True      4.240        2  \n",
        "32    300000              True      4.241       -4  \n",
        "33   3000000              True      3.989       -6  \n",
        "34     75000              True      4.310       -7  \n",
        "35   3000000              True      4.451        5  \n",
        "36    300000              True      3.916       -9  \n",
        "37    300000              True      4.761        1  \n",
        "38    300000              True      4.158        0  \n",
        "39    300000              True      2.972       -4  \n",
        "40    300000              True      3.903       -6  \n",
        "41   3000000              True      3.433       -9  \n",
        "42   3000000              True      4.412       -3  \n",
        "43   3000000             False      4.461       15  \n",
        "44    300000              True      3.564       -2  \n",
        "45   3000000              True      4.131        5  \n",
        "46     30000              True      3.550       -1  \n",
        "47   3000000              True      4.435        1  \n",
        "48    300000              True      4.233       -3  \n",
        "49   3000000              True      3.975        1  \n",
        "50    300000              True      3.926        4  \n",
        "51   3000000              True      4.590        2  \n",
        "52    300000              True      3.601       -9  \n",
        "53    300000              True      3.701        3  \n",
        "54    300000              True      2.931      -13  \n",
        "55   3000000              True      4.564        0  \n",
        "56   7500000              True      4.179       -7  \n",
        "57   3000000              True      4.466        7  \n",
        "58    750000             False      4.340       -3  \n",
        "59    300000              True      4.539        3  \n",
        "         ...               ...        ...      ...  \n",
        "\n",
        "[323 rows x 9 columns]"
       ]
      }
     ],
     "prompt_number": 259
    },
    {
     "cell_type": "heading",
     "level": 2,
     "metadata": {},
     "source": [
      "Understanding the Data"
     ]
    },
    {
     "cell_type": "heading",
     "level": 4,
     "metadata": {},
     "source": [
      "Histograms"
     ]
    },
    {
     "cell_type": "code",
     "collapsed": false,
     "input": [
      "appFeatures['adjectiveCount'].hist(color=['#af9ecb'])"
     ],
     "language": "python",
     "metadata": {},
     "outputs": [
      {
       "metadata": {},
       "output_type": "pyout",
       "prompt_number": 260,
       "text": [
        "<matplotlib.axes.AxesSubplot at 0x1157a2c10>"
       ]
      },
      {
       "metadata": {},
       "output_type": "display_data",
       "png": "[encoded data removed]",
       "text": [
        "<matplotlib.figure.Figure at 0x114a8f910>"
       ]
      }
     ],
     "prompt_number": 260
    },
    {
     "cell_type": "code",
     "collapsed": false,
     "input": [
      "appFeatures['avgRating'].hist(color=['#af9ecb'])"
     ],
     "language": "python",
     "metadata": {},
     "outputs": [
      {
       "metadata": {},
       "output_type": "pyout",
       "prompt_number": 261,
       "text": [
        "<matplotlib.axes.AxesSubplot at 0x10e9b0dd0>"
       ]
      },
      {
       "metadata": {},
       "output_type": "display_data",
       "png": "[encoded data removed]",
       "text": [
        "<matplotlib.figure.Figure at 0x10e9b7710>"
       ]
      }
     ],
     "prompt_number": 261
    },
    {
     "cell_type": "code",
     "collapsed": false,
     "input": [
      "appFeatures['countCapital'].hist(color=['#af9ecb'])"
     ],
     "language": "python",
     "metadata": {},
     "outputs": [
      {
       "metadata": {},
       "output_type": "pyout",
       "prompt_number": 262,
       "text": [
        "<matplotlib.axes.AxesSubplot at 0x1153ab190>"
       ]
      },
      {
       "metadata": {},
       "output_type": "display_data",
       "png": "[encoded data removed]",
       "text": [
        "<matplotlib.figure.Figure at 0x1157b9e10>"
       ]
      }
     ],
     "prompt_number": 262
    },
    {
     "cell_type": "code",
     "collapsed": false,
     "input": [
      "appFeatures['hasDeveloperEmail'].hist(color=['#af9ecb'])"
     ],
     "language": "python",
     "metadata": {},
     "outputs": [
      {
       "metadata": {},
       "output_type": "pyout",
       "prompt_number": 263,
       "text": [
        "<matplotlib.axes.AxesSubplot at 0x1151672d0>"
       ]
      },
      {
       "metadata": {},
       "output_type": "display_data",
       "png": "[encoded data removed]",
       "text": [
        "<matplotlib.figure.Figure at 0x1153a1310>"
       ]
      }
     ],
     "prompt_number": 263
    },
    {
     "cell_type": "code",
     "collapsed": false,
     "input": [
      "appFeatures['hasDeveloperWebsite'].hist(color=['#af9ecb'])"
     ],
     "language": "python",
     "metadata": {},
     "outputs": [
      {
       "metadata": {},
       "output_type": "pyout",
       "prompt_number": 264,
       "text": [
        "<matplotlib.axes.AxesSubplot at 0x115da9950>"
       ]
      },
      {
       "metadata": {},
       "output_type": "display_data",
       "png": "[encoded data removed]",
       "text": [
        "<matplotlib.figure.Figure at 0x115389dd0>"
       ]
      }
     ],
     "prompt_number": 264
    },
    {
     "cell_type": "code",
     "collapsed": false,
     "input": [
      "appFeatures['hasPrivacy'].hist(color=['#af9ecb'])"
     ],
     "language": "python",
     "metadata": {},
     "outputs": [
      {
       "metadata": {},
       "output_type": "pyout",
       "prompt_number": 265,
       "text": [
        "<matplotlib.axes.AxesSubplot at 0x11797f4d0>"
       ]
      },
      {
       "metadata": {},
       "output_type": "display_data",
       "png": "[encoded data removed]",
       "text": [
        "<matplotlib.figure.Figure at 0x115da40d0>"
       ]
      }
     ],
     "prompt_number": 265
    },
    {
     "cell_type": "code",
     "collapsed": false,
     "input": [
      "appFeatures['installs'].hist(color=['#af9ecb'])"
     ],
     "language": "python",
     "metadata": {},
     "outputs": [
      {
       "metadata": {},
       "output_type": "pyout",
       "prompt_number": 266,
       "text": [
        "<matplotlib.axes.AxesSubplot at 0x1179c0110>"
       ]
      },
      {
       "metadata": {},
       "output_type": "display_data",
       "png": "[encoded data removed]",
       "text": [
        "<matplotlib.figure.Figure at 0x11794edd0>"
       ]
      }
     ],
     "prompt_number": 266
    },
    {
     "cell_type": "code",
     "collapsed": false,
     "input": [
      "appFeatures['revSent'].hist(color=['#af9ecb'])"
     ],
     "language": "python",
     "metadata": {},
     "outputs": [
      {
       "metadata": {},
       "output_type": "pyout",
       "prompt_number": 267,
       "text": [
        "<matplotlib.axes.AxesSubplot at 0x115707f10>"
       ]
      },
      {
       "metadata": {},
       "output_type": "display_data",
       "png": "[encoded data removed]",
       "text": [
        "<matplotlib.figure.Figure at 0x117994210>"
       ]
      }
     ],
     "prompt_number": 267
    },
    {
     "cell_type": "code",
     "collapsed": false,
     "input": [
      "appFeatures['revLength'].hist(color=['#af9ecb'])"
     ],
     "language": "python",
     "metadata": {},
     "outputs": [
      {
       "metadata": {},
       "output_type": "pyout",
       "prompt_number": 268,
       "text": [
        "<matplotlib.axes.AxesSubplot at 0x115719390>"
       ]
      },
      {
       "metadata": {},
       "output_type": "display_data",
       "png": "[encoded data removed]",
       "text": [
        "<matplotlib.figure.Figure at 0x114a146d0>"
       ]
      }
     ],
     "prompt_number": 268
    },
    {
     "cell_type": "code",
     "collapsed": false,
     "input": [
      "appFeatures.describe()"
     ],
     "language": "python",
     "metadata": {},
     "outputs": [
      {
       "html": [
        "<div style=\"max-height:1000px;max-width:1500px;overflow:auto;\">\n",
        "<table border=\"1\" class=\"dataframe\">\n",
        "  <thead>\n",
        "    <tr style=\"text-align: right;\">\n",
        "      <th></th>\n",
        "      <th>adjectiveCount</th>\n",
        "      <th>hasPrivacy</th>\n",
        "      <th>revLength</th>\n",
        "      <th>countCapital</th>\n",
        "      <th>hasDeveloperWebsite</th>\n",
        "      <th>installs</th>\n",
        "      <th>hasDeveloperEmail</th>\n",
        "      <th>avgRating</th>\n",
        "      <th>revSent</th>\n",
        "    </tr>\n",
        "  </thead>\n",
        "  <tbody>\n",
        "    <tr>\n",
        "      <th>count</th>\n",
        "      <td> 323.000000</td>\n",
        "      <td>       323</td>\n",
        "      <td>  323.000000</td>\n",
        "      <td> 323.000000</td>\n",
        "      <td>       323</td>\n",
        "      <td> 3.230000e+02</td>\n",
        "      <td>       323</td>\n",
        "      <td> 323.000000</td>\n",
        "      <td> 323.000000</td>\n",
        "    </tr>\n",
        "    <tr>\n",
        "      <th>mean</th>\n",
        "      <td>  12.653251</td>\n",
        "      <td> 0.5263158</td>\n",
        "      <td> 1114.975232</td>\n",
        "      <td>  11.789474</td>\n",
        "      <td> 0.9071207</td>\n",
        "      <td> 2.634931e+07</td>\n",
        "      <td> 0.9287926</td>\n",
        "      <td>   4.141879</td>\n",
        "      <td>  -2.281734</td>\n",
        "    </tr>\n",
        "    <tr>\n",
        "      <th>std</th>\n",
        "      <td>   6.520670</td>\n",
        "      <td> 0.5000817</td>\n",
        "      <td>  498.856574</td>\n",
        "      <td>  10.834108</td>\n",
        "      <td> 0.2907135</td>\n",
        "      <td> 8.654108e+07</td>\n",
        "      <td>   0.25757</td>\n",
        "      <td>   0.497807</td>\n",
        "      <td>   4.932892</td>\n",
        "    </tr>\n",
        "    <tr>\n",
        "      <th>min</th>\n",
        "      <td>   0.000000</td>\n",
        "      <td>     False</td>\n",
        "      <td>   17.000000</td>\n",
        "      <td>   0.000000</td>\n",
        "      <td>     False</td>\n",
        "      <td> 3.000000e+02</td>\n",
        "      <td>     False</td>\n",
        "      <td>   1.000000</td>\n",
        "      <td> -17.000000</td>\n",
        "    </tr>\n",
        "    <tr>\n",
        "      <th>25%</th>\n",
        "      <td>   8.000000</td>\n",
        "      <td>         0</td>\n",
        "      <td>  748.500000</td>\n",
        "      <td>   6.000000</td>\n",
        "      <td>         1</td>\n",
        "      <td> 3.000000e+05</td>\n",
        "      <td>         1</td>\n",
        "      <td>   4.003500</td>\n",
        "      <td>  -5.000000</td>\n",
        "    </tr>\n",
        "    <tr>\n",
        "      <th>50%</th>\n",
        "      <td>  13.000000</td>\n",
        "      <td>         1</td>\n",
        "      <td> 1123.000000</td>\n",
        "      <td>  10.000000</td>\n",
        "      <td>         1</td>\n",
        "      <td> 3.000000e+06</td>\n",
        "      <td>         1</td>\n",
        "      <td>   4.242000</td>\n",
        "      <td>  -2.000000</td>\n",
        "    </tr>\n",
        "    <tr>\n",
        "      <th>75%</th>\n",
        "      <td>  17.000000</td>\n",
        "      <td>         1</td>\n",
        "      <td> 1458.500000</td>\n",
        "      <td>  15.000000</td>\n",
        "      <td>         1</td>\n",
        "      <td> 7.500000e+06</td>\n",
        "      <td>         1</td>\n",
        "      <td>   4.431000</td>\n",
        "      <td>   1.000000</td>\n",
        "    </tr>\n",
        "    <tr>\n",
        "      <th>max</th>\n",
        "      <td>  41.000000</td>\n",
        "      <td>      True</td>\n",
        "      <td> 2454.000000</td>\n",
        "      <td> 109.000000</td>\n",
        "      <td>      True</td>\n",
        "      <td> 7.500000e+08</td>\n",
        "      <td>      True</td>\n",
        "      <td>   4.845000</td>\n",
        "      <td>  15.000000</td>\n",
        "    </tr>\n",
        "  </tbody>\n",
        "</table>\n",
        "<p>8 rows \u00d7 9 columns</p>\n",
        "</div>"
       ],
       "metadata": {},
       "output_type": "pyout",
       "prompt_number": 269,
       "text": [
        "       adjectiveCount hasPrivacy    revLength  countCapital  \\\n",
        "count      323.000000        323   323.000000    323.000000   \n",
        "mean        12.653251  0.5263158  1114.975232     11.789474   \n",
        "std          6.520670  0.5000817   498.856574     10.834108   \n",
        "min          0.000000      False    17.000000      0.000000   \n",
        "25%          8.000000          0   748.500000      6.000000   \n",
        "50%         13.000000          1  1123.000000     10.000000   \n",
        "75%         17.000000          1  1458.500000     15.000000   \n",
        "max         41.000000       True  2454.000000    109.000000   \n",
        "\n",
        "      hasDeveloperWebsite      installs hasDeveloperEmail   avgRating  \\\n",
        "count                 323  3.230000e+02               323  323.000000   \n",
        "mean            0.9071207  2.634931e+07         0.9287926    4.141879   \n",
        "std             0.2907135  8.654108e+07           0.25757    0.497807   \n",
        "min                 False  3.000000e+02             False    1.000000   \n",
        "25%                     1  3.000000e+05                 1    4.003500   \n",
        "50%                     1  3.000000e+06                 1    4.242000   \n",
        "75%                     1  7.500000e+06                 1    4.431000   \n",
        "max                  True  7.500000e+08              True    4.845000   \n",
        "\n",
        "          revSent  \n",
        "count  323.000000  \n",
        "mean    -2.281734  \n",
        "std      4.932892  \n",
        "min    -17.000000  \n",
        "25%     -5.000000  \n",
        "50%     -2.000000  \n",
        "75%      1.000000  \n",
        "max     15.000000  \n",
        "\n",
        "[8 rows x 9 columns]"
       ]
      }
     ],
     "prompt_number": 269
    },
    {
     "cell_type": "heading",
     "level": 4,
     "metadata": {},
     "source": [
      "Variable Relations"
     ]
    },
    {
     "cell_type": "markdown",
     "metadata": {},
     "source": [
      "Plots inspired from [Graphical Representations of linear models notebook](http://nbviewer.ipython.org/github/mwaskom/seaborn/blob/master/examples/linear_models.ipynb)"
     ]
    },
    {
     "cell_type": "code",
     "collapsed": false,
     "input": [
      "import seaborn as sns\n",
      "import matplotlib as mpl\n",
      "import matplotlib.pyplot as plt\n",
      "\n",
      "\n",
      "\n",
      "sns.set(palette=\"Purples_r\")\n",
      "np.random.seed(9221999)\n",
      "mpl.rc(\"figure\", figsize=(10, 10))\n",
      "\n"
     ],
     "language": "python",
     "metadata": {},
     "outputs": [],
     "prompt_number": 270
    },
    {
     "cell_type": "heading",
     "level": 4,
     "metadata": {},
     "source": [
      "Review Sentiment vs Avg Rating"
     ]
    },
    {
     "cell_type": "code",
     "collapsed": false,
     "input": [
      "x = appFeatures['revSent'].astype(float)\n",
      "y = appFeatures['avgRating'].astype(float)\n",
      "\n",
      "sns.regplot(x,y)"
     ],
     "language": "python",
     "metadata": {},
     "outputs": [
      {
       "metadata": {},
       "output_type": "display_data",
       "png": "[encoded data removed]",
       "text": [
        "<matplotlib.figure.Figure at 0x114a0e790>"
       ]
      }
     ],
     "prompt_number": 271
    },
    {
     "cell_type": "heading",
     "level": 4,
     "metadata": {},
     "source": [
      "Review Sentiment vs Review Length"
     ]
    },
    {
     "cell_type": "code",
     "collapsed": false,
     "input": [
      "x = appFeatures['revSent'].astype(float)\n",
      "y = appFeatures['revLength'].astype(float)\n",
      "\n",
      "sns.regplot(x,y)"
     ],
     "language": "python",
     "metadata": {},
     "outputs": [
      {
       "metadata": {},
       "output_type": "display_data",
       "png": "[encoded data removed]",
       "text": [
        "<matplotlib.figure.Figure at 0x115b0f850>"
       ]
      }
     ],
     "prompt_number": 272
    },
    {
     "cell_type": "heading",
     "level": 4,
     "metadata": {},
     "source": [
      "Review Length vs Avg Rating"
     ]
    },
    {
     "cell_type": "code",
     "collapsed": false,
     "input": [
      "x = appFeatures['revLength'].astype(float)\n",
      "y = appFeatures['revSent'].astype(float)\n",
      "\n",
      "sns.regplot(x,y)"
     ],
     "language": "python",
     "metadata": {},
     "outputs": [
      {
       "metadata": {},
       "output_type": "display_data",
       "png": "[encoded data removed]",
       "text": [
        "<matplotlib.figure.Figure at 0x114a1e2d0>"
       ]
      }
     ],
     "prompt_number": 273
    },
    {
     "cell_type": "heading",
     "level": 4,
     "metadata": {},
     "source": [
      "Pairwise correlation heatmaps"
     ]
    },
    {
     "cell_type": "code",
     "collapsed": false,
     "input": [
      "f, ax = plt.subplots(1, 1, figsize=(10, 10))\n",
      "cmap = sns.blend_palette([\"#00008B\", \"#6A5ACD\", \"#F0F8FF\",\n",
      "                          \"#FFE6F8\", \"#C71585\", \"#8B0000\"], as_cmap=True)\n",
      "\n",
      "\n",
      "sns.corrplot(appFeatures, annot=False, diag_names=False, cmap=cmap, ax=ax);"
     ],
     "language": "python",
     "metadata": {},
     "outputs": [
      {
       "metadata": {},
       "output_type": "display_data",
       "png": "[encoded data removed]",
       "text": [
        "<matplotlib.figure.Figure at 0x115b4cf10>"
       ]
      }
     ],
     "prompt_number": 274
    },
    {
     "cell_type": "code",
     "collapsed": false,
     "input": [
      "sns.corrplot(appFeatures) #with values"
     ],
     "language": "python",
     "metadata": {},
     "outputs": [
      {
       "metadata": {},
       "output_type": "pyout",
       "prompt_number": 275,
       "text": [
        "<matplotlib.axes.AxesSubplot at 0x115ce7ed0>"
       ]
      },
      {
       "metadata": {},
       "output_type": "display_data",
       "png": "[encoded data removed]",
       "text": [
        "<matplotlib.figure.Figure at 0x115705ad0>"
       ]
      }
     ],
     "prompt_number": 275
    },
    {
     "cell_type": "markdown",
     "metadata": {},
     "source": [
      "---"
     ]
    },
    {
     "cell_type": "code",
     "collapsed": false,
     "input": [
      "%doctest_mode"
     ],
     "language": "python",
     "metadata": {},
     "outputs": [
      {
       "output_type": "stream",
       "stream": "stdout",
       "text": [
        "Exception reporting mode: Plain\n",
        "Doctest mode is: ON\n"
       ]
      }
     ],
     "prompt_number": 276
    },
    {
     "cell_type": "markdown",
     "metadata": {},
     "source": [
      "---"
     ]
    },
    {
     "cell_type": "heading",
     "level": 2,
     "metadata": {},
     "source": [
      "Unsupervised Learning"
     ]
    },
    {
     "cell_type": "heading",
     "level": 4,
     "metadata": {},
     "source": [
      "Scaling the feature vector"
     ]
    },
    {
     "cell_type": "code",
     "collapsed": false,
     "input": [
      "# get all the rows for unsupervised learning\n",
      "appData_all = trimDataFrame(main_appData)\n",
      "\n",
      "appData_all.head()\n",
      "\n"
     ],
     "language": "python",
     "metadata": {},
     "outputs": [
      {
       "metadata": {},
       "output_type": "pyout",
       "prompt_number": 277,
       "text": [
        "   adjectiveCount hasPrivacy  revLength  countCapital hasDeveloperWebsite  \\\n",
        "0               4       True        601             1                True   \n",
        "1              13       True       1139            11                True   \n",
        "2              23       True       2223            20                True   \n",
        "3              10      False        804             5                True   \n",
        "4              22       True       1867            16                True   \n",
        "\n",
        "   installs hasDeveloperEmail  avgRating  revSent  \n",
        "0  30000000              True      4.051       -3  \n",
        "1  30000000              True      4.351        2  \n",
        "2   3000000             False      4.555       -4  \n",
        "3  30000000              True      4.623        8  \n",
        "4   7500000             False      4.046      -11  \n",
        "\n",
        "[5 rows x 9 columns]"
       ]
      }
     ],
     "prompt_number": 277
    },
    {
     "cell_type": "code",
     "collapsed": false,
     "input": [
      "from sklearn.preprocessing import MinMaxScaler\n",
      "min_max_scaler = MinMaxScaler()\n",
      "\n",
      "print(appData_all.columns)\n",
      "\n",
      "# scale the dataframe\n",
      "X_scaled = min_max_scaler.fit_transform(appData_all)\n",
      "\n",
      "print (X_scaled)\n",
      "print X_scaled.astype('float64')\n",
      "Y = main_appData['appLabel']\n"
     ],
     "language": "python",
     "metadata": {},
     "outputs": [
      {
       "output_type": "stream",
       "stream": "stdout",
       "text": [
        "Index([u'adjectiveCount', u'hasPrivacy', u'revLength', u'countCapital', u'hasDeveloperWebsite', u'installs', u'hasDeveloperEmail', u'avgRating', u'revSent'], dtype='object')\n",
        "[[0 1 0 ..., 1 0.7934980494148245 0]\n",
        " [0 1 0 ..., 1 0.8715214564369311 0]\n",
        " [0 1 0 ..., 0 0.9245773732119635 0]\n",
        " ..., \n",
        " [0 1 0 ..., 1 0.8905071521456436 0]\n",
        " [0 1 0 ..., 1 0.9193758127438232 0]\n",
        " [0 1 0 ..., 1 0.9243172951885565 0]]\n",
        "[[ 0.          1.          0.         ...,  1.          0.79349805  0.        ]\n",
        " [ 0.          1.          0.         ...,  1.          0.87152146  0.        ]\n",
        " [ 0.          1.          0.         ...,  0.          0.92457737  0.        ]\n",
        " ..., \n",
        " [ 0.          1.          0.         ...,  1.          0.89050715  0.        ]\n",
        " [ 0.          1.          0.         ...,  1.          0.91937581  0.        ]\n",
        " [ 0.          1.          0.         ...,  1.          0.9243173   0.        ]]\n"
       ]
      }
     ],
     "prompt_number": 278
    },
    {
     "cell_type": "code",
     "collapsed": false,
     "input": [
      "# Change plot string for fair and unfair apps\\n\n",
      "def set_plot_symbol(fairness, fair_char = '.', unfair_char = '+'):\n",
      "    symbol = ''\n",
      "    if fairness == 'unfair':\n",
      "        symbol = unfair_char\n",
      "    elif fairness == 'fair':\n",
      "        symbol = fair_char\n",
      "    \n",
      "    return symbol"
     ],
     "language": "python",
     "metadata": {},
     "outputs": [],
     "prompt_number": 296
    },
    {
     "cell_type": "code",
     "collapsed": false,
     "input": [
      "# Code reference: http://scikit-learn.org/stable/auto_examples/manifold/plot_lle_digits.html#example-manifold-plot-lle-digits-py\n",
      "#====================\n",
      "#----------------------------------------------------------------------\n",
      "# Scale and visualize the embedding vectors\n",
      "def plot_embedding(X, title=None):\n",
      "    x_min, x_max = np.min(X, 0), np.max(X, 0)\n",
      "    X = (X - x_min) / (x_max - x_min)\n",
      "\n",
      "    pl.figure()\n",
      "    ax = pl.subplot(111)\n",
      "    for i in range(X.shape[0]):\n",
      "        pl.text(X[i, 0], X[i, 1], str(set_plot_symbol(Y[i])),\n",
      "                color=pl.cm.Set1(y[i] / 2.),\n",
      "                fontdict={'weight': 'bold', 'size': 9})\n",
      "\n",
      "\n",
      "    pl.xticks([]), pl.yticks([])\n",
      "    if title is not None:\n",
      "        pl.title(title)"
     ],
     "language": "python",
     "metadata": {},
     "outputs": [],
     "prompt_number": 297
    },
    {
     "cell_type": "code",
     "collapsed": false,
     "input": [
      "from time import time\n",
      "import pylab as pl\n",
      "from matplotlib import offsetbox\n",
      "from sklearn import (manifold, datasets, decomposition, ensemble, lda,\n",
      "                     random_projection)\n",
      "\n"
     ],
     "language": "python",
     "metadata": {},
     "outputs": [],
     "prompt_number": 298
    },
    {
     "cell_type": "code",
     "collapsed": false,
     "input": [
      "print(\"Computing MDS embedding\")\n",
      "clf = manifold.MDS(n_components=2, n_init=1, max_iter=100)\n",
      "t0 = time()\n",
      "X_mds = clf.fit_transform(X_scaled)\n",
      "print(\"Done. Stress: %f\" % clf.stress_)\n",
      "plot_embedding(X_mds,\n",
      "               \"MDS embedding of the digits (time %.2fs)\" %\n",
      "               (time() - t0))"
     ],
     "language": "python",
     "metadata": {},
     "outputs": [
      {
       "output_type": "stream",
       "stream": "stdout",
       "text": [
        "Computing MDS embedding\n",
        "Done. Stress: 800.495889"
       ]
      },
      {
       "output_type": "stream",
       "stream": "stdout",
       "text": [
        "\n"
       ]
      },
      {
       "metadata": {},
       "output_type": "display_data",
       "text": [
        "<matplotlib.figure.Figure object at 0x115cbec90>"
       ]
      }
     ],
     "prompt_number": 301
    },
    {
     "cell_type": "code",
     "collapsed": false,
     "input": [
      "#----------------------------------------------------------------------\n",
      "# Projection on to the first 2 principal components\n",
      "\n",
      "print(\"Computing PCA projection\")\n",
      "t0 = time()\n",
      "X_pca = decomposition.TruncatedSVD(n_components=2).fit_transform(X_scaled)\n",
      "plot_embedding(X_pca,\n",
      "               \"Principal Components projection of the digits (time %.2fs)\" %\n",
      "               (time() - t0))"
     ],
     "language": "python",
     "metadata": {},
     "outputs": [
      {
       "output_type": "stream",
       "stream": "stdout",
       "text": [
        "Computing PCA projection\n"
       ]
      },
      {
       "metadata": {},
       "output_type": "display_data",
       "text": [
        "<matplotlib.figure.Figure object at 0x117e8da10>"
       ]
      }
     ],
     "prompt_number": 302
    },
    {
     "cell_type": "code",
     "collapsed": false,
     "input": [
      "#----------------------------------------------------------------------\n",
      "# Projection on to the first 2 linear discriminant components\n",
      "\n",
      "\n",
      "print(\"Computing LDA projection\")\n",
      "X_converted = X_scaled.astype('float64')\n",
      "X2 = X_converted.copy()\n",
      "X2.flat[::X_converted.shape[1] + 1] += 0.01  # Make X invertible\n",
      "t0 = time()\n",
      "X_lda = lda.LDA(n_components=2).fit_transform(X2, y)\n",
      "plot_embedding(X_lda,\n",
      "               \"Linear Discriminant projection of the digits (time %.2fs)\" %\n",
      "               (time() - t0))"
     ],
     "language": "python",
     "metadata": {},
     "outputs": [
      {
       "output_type": "stream",
       "stream": "stdout",
       "text": [
        "Computing LDA projection\n"
       ]
      },
      {
       "metadata": {},
       "output_type": "display_data",
       "text": [
        "<matplotlib.figure.Figure object at 0x115cdcad0>"
       ]
      }
     ],
     "prompt_number": 303
    },
    {
     "cell_type": "code",
     "collapsed": false,
     "input": [
      "#----------------------------------------------------------------------\n",
      "# Isomap projection of the digits dataset\n",
      "n_neighbors = 10\n",
      "print(\"Computing Isomap embedding\")\n",
      "t0 = time()\n",
      "X_iso = manifold.Isomap(n_neighbors, n_components=2).fit_transform(X_scaled)\n",
      "print(\"Done.\")\n",
      "plot_embedding(X_iso,\n",
      "               \"Isomap projection of the digits (time %.2fs)\" %\n",
      "               (time() - t0))"
     ],
     "language": "python",
     "metadata": {},
     "outputs": [
      {
       "output_type": "stream",
       "stream": "stdout",
       "text": [
        "Computing Isomap embedding\n",
        "Done.\n"
       ]
      },
      {
       "metadata": {},
       "output_type": "display_data",
       "text": [
        "<matplotlib.figure.Figure object at 0x115b89f90>"
       ]
      }
     ],
     "prompt_number": 304
    },
    {
     "cell_type": "code",
     "collapsed": false,
     "input": [
      "#----------------------------------------------------------------------\n",
      "# Locally linear embedding of the digits dataset\n",
      "print(\"Computing LLE embedding\")\n",
      "clf = manifold.LocallyLinearEmbedding(n_neighbors, n_components=2,\n",
      "                                      method='standard')\n",
      "t0 = time()\n",
      "X_lle = clf.fit_transform(X_scaled.astype('float64'))\n",
      "print(\"Done. Reconstruction error: %g\" % clf.reconstruction_error_)\n",
      "plot_embedding(X_lle,\n",
      "               \"Locally Linear Embedding of the digits (time %.2fs)\" %\n",
      "               (time() - t0))"
     ],
     "language": "python",
     "metadata": {},
     "outputs": [
      {
       "output_type": "stream",
       "stream": "stdout",
       "text": [
        "Computing LLE embedding\n",
        "Done. Reconstruction error: 2.80865e-17"
       ]
      },
      {
       "output_type": "stream",
       "stream": "stdout",
       "text": [
        "\n"
       ]
      },
      {
       "metadata": {},
       "output_type": "display_data",
       "text": [
        "<matplotlib.figure.Figure object at 0x115cb75d0>"
       ]
      }
     ],
     "prompt_number": 285
    },
    {
     "cell_type": "code",
     "collapsed": false,
     "input": [
      "#----------------------------------------------------------------------\n",
      "# Modified Locally linear embedding of the digits dataset\n",
      "print(\"Computing modified LLE embedding\")\n",
      "clf = manifold.LocallyLinearEmbedding(n_neighbors, n_components=2,\n",
      "                                      method='modified')\n",
      "t0 = time()\n",
      "X_mlle = clf.fit_transform(X_scaled.astype('float64'))\n",
      "print(\"Done. Reconstruction error: %g\" % clf.reconstruction_error_)\n",
      "plot_embedding(X_mlle,\n",
      "               \"Modified Locally Linear Embedding of the digits (time %.2fs)\" %\n",
      "               (time() - t0))"
     ],
     "language": "python",
     "metadata": {},
     "outputs": [
      {
       "output_type": "stream",
       "stream": "stdout",
       "text": [
        "Computing modified LLE embedding\n",
        "Done. Reconstruction error: 3.96675e-17"
       ]
      },
      {
       "output_type": "stream",
       "stream": "stdout",
       "text": [
        "\n"
       ]
      },
      {
       "metadata": {},
       "output_type": "display_data",
       "text": [
        "<matplotlib.figure.Figure object at 0x116c35e50>"
       ]
      }
     ],
     "prompt_number": 286
    },
    {
     "cell_type": "code",
     "collapsed": false,
     "input": [
      "#----------------------------------------------------------------------\n",
      "# HLLE embedding of the digits dataset\n",
      "print(\"Computing Hessian LLE embedding\")\n",
      "clf = manifold.LocallyLinearEmbedding(n_neighbors, n_components=2,\n",
      "                                      method='hessian')\n",
      "t0 = time()\n",
      "X_hlle = clf.fit_transform(X_scaled.astype('float64'))\n",
      "print(\"Done. Reconstruction error: %g\" % clf.reconstruction_error_)\n",
      "plot_embedding(X_hlle,\n",
      "               \"Hessian Locally Linear Embedding of the digits (time %.2fs)\" %\n",
      "               (time() - t0))"
     ],
     "language": "python",
     "metadata": {},
     "outputs": [
      {
       "output_type": "stream",
       "stream": "stdout",
       "text": [
        "Computing Hessian LLE embedding\n",
        "Done. Reconstruction error: -2.1499e-18"
       ]
      },
      {
       "output_type": "stream",
       "stream": "stdout",
       "text": [
        "\n"
       ]
      },
      {
       "metadata": {},
       "output_type": "display_data",
       "text": [
        "<matplotlib.figure.Figure object at 0x115cc4850>"
       ]
      }
     ],
     "prompt_number": 287
    },
    {
     "cell_type": "code",
     "collapsed": false,
     "input": [
      "#----------------------------------------------------------------------\n",
      "# MDS  embedding of the digits dataset\n",
      "print(\"Computing MDS embedding\")\n",
      "clf = manifold.MDS(n_components=2, n_init=1, max_iter=100)\n",
      "t0 = time()\n",
      "X_mds = clf.fit_transform(X_scaled.astype('float64'))\n",
      "print(\"Done. Stress: %f\" % clf.stress_)\n",
      "plot_embedding(X_mds,\n",
      "               \"MDS embedding of the digits (time %.2fs)\" %\n",
      "               (time() - t0))"
     ],
     "language": "python",
     "metadata": {},
     "outputs": [
      {
       "output_type": "stream",
       "stream": "stdout",
       "text": [
        "Computing MDS embedding\n",
        "Done. Stress: 1101.170364"
       ]
      },
      {
       "output_type": "stream",
       "stream": "stdout",
       "text": [
        "\n"
       ]
      },
      {
       "metadata": {},
       "output_type": "display_data",
       "text": [
        "<matplotlib.figure.Figure object at 0x11574ac90>"
       ]
      }
     ],
     "prompt_number": 288
    },
    {
     "cell_type": "code",
     "collapsed": false,
     "input": [
      "#----------------------------------------------------------------------\n",
      "# Random Trees embedding of the digits dataset\n",
      "print(\"Computing Totally Random Trees embedding\")\n",
      "hasher = ensemble.RandomTreesEmbedding(n_estimators=200, random_state=0,\n",
      "                                       max_depth=5)\n",
      "t0 = time()\n",
      "X_transformed = hasher.fit_transform(X_scaled.astype('float64'))\n",
      "pca = decomposition.TruncatedSVD(n_components=2)\n",
      "X_reduced = pca.fit_transform(X_transformed)\n",
      "\n",
      "plot_embedding(X_reduced,\n",
      "               \"Random forest embedding of the digits (time %.2fs)\" %\n",
      "               (time() - t0))\n"
     ],
     "language": "python",
     "metadata": {},
     "outputs": [
      {
       "output_type": "stream",
       "stream": "stdout",
       "text": [
        "Computing Totally Random Trees embedding\n"
       ]
      },
      {
       "metadata": {},
       "output_type": "display_data",
       "text": [
        "<matplotlib.figure.Figure object at 0x110db1550>"
       ]
      }
     ],
     "prompt_number": 289
    },
    {
     "cell_type": "code",
     "collapsed": false,
     "input": [
      "#----------------------------------------------------------------------\n",
      "# Spectral embedding of the digits dataset\n",
      "print(\"Computing Spectral embedding\")\n",
      "embedder = manifold.SpectralEmbedding(n_components=2, random_state=0,\n",
      "                                      eigen_solver=\"arpack\")\n",
      "t0 = time()\n",
      "X_se = embedder.fit_transform(X_scaled.astype('float64'))\n",
      "\n",
      "plot_embedding(X_se,\n",
      "               \"Spectral embedding of the digits (time %.2fs)\" %\n",
      "               (time() - t0))\n",
      "\n",
      "pl.show()"
     ],
     "language": "python",
     "metadata": {},
     "outputs": [
      {
       "output_type": "stream",
       "stream": "stdout",
       "text": [
        "Computing Spectral embedding\n"
       ]
      },
      {
       "metadata": {},
       "output_type": "display_data",
       "text": [
        "<matplotlib.figure.Figure object at 0x10ecd2210>"
       ]
      }
     ],
     "prompt_number": 290
    },
    {
     "cell_type": "code",
     "collapsed": false,
     "input": [
      "#\n",
      "# ---------------K-means Clustering\n",
      "#\n",
      "from sklearn.cluster import KMeans\n",
      "\n",
      "print(\"Computing K-means clustering\")\n",
      "kmeans = KMeans(init='k-means++', n_clusters=7, n_init=10)\n",
      "t0 = time()\n",
      "X_kmeans = kmeans.fit_transform(X_scaled)\n",
      "# print(\"Done. Stress: %f\" % clf.stress_)\n",
      "plot_embedding(X_kmeans,\n",
      "               \"Kmeans clusters (time %.2fs)\" %\n",
      "               (time() - t0))"
     ],
     "language": "python",
     "metadata": {},
     "outputs": [
      {
       "output_type": "stream",
       "stream": "stdout",
       "text": [
        "Computing K-means clustering\n"
       ]
      },
      {
       "metadata": {},
       "output_type": "display_data",
       "text": [
        "<matplotlib.figure.Figure object at 0x116c1d9d0>"
       ]
      }
     ],
     "prompt_number": 305
    },
    {
     "cell_type": "heading",
     "level": 2,
     "metadata": {},
     "source": [
      "Supervised Learning"
     ]
    },
    {
     "cell_type": "markdown",
     "metadata": {},
     "source": [
      "To be able to assess our classifier better, We have resampled our data to include equal number of __fair__ and __unfair__ apps. We will shuffle the records and do 10-fold validation on it. "
     ]
    },
    {
     "cell_type": "code",
     "collapsed": false,
     "input": [
      "# first get the feature matrix\n",
      "# from Luis's random sampling of the dataframe\n",
      "\n",
      "appData\n",
      "\n",
      "X_resampled = trimDataFrame(appData)\n",
      "\n",
      "X_resampled\n",
      "\n",
      "X_for_classifier =  min_max_scaler.fit_transform(X_resampled).astype('float64')\n",
      "\n",
      "np.random.shuffle(X_for_classifier)\n",
      "\n",
      "n_sample, n_features = X_for_classifier.shape"
     ],
     "language": "python",
     "metadata": {},
     "outputs": [
      {
       "metadata": {},
       "output_type": "pyout",
       "prompt_number": 309,
       "text": [
        "46"
       ]
      }
     ],
     "prompt_number": 309
    },
    {
     "cell_type": "code",
     "collapsed": false,
     "input": [
      "# setting up the cross validation\n",
      "from sklearn import cross_validation\n",
      "kf = cross_validation.KFold(n_sample, n_folds=3)\n",
      "\n",
      "s\n"
     ],
     "language": "python",
     "metadata": {},
     "outputs": [
      {
       "output_type": "stream",
       "stream": "stdout",
       "text": [
        "sklearn.cross_validation.KFold(n=46, n_folds=3)\n"
       ]
      }
     ],
     "prompt_number": 312
    },
    {
     "cell_type": "code",
     "collapsed": false,
     "input": [],
     "language": "python",
     "metadata": {},
     "outputs": []
    }
   ],
   "metadata": {}
  }
 ]
}