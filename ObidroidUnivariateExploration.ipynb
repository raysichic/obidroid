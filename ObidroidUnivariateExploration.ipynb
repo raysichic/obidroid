{
 "metadata": {
  "name": ""
 },
 "nbformat": 3,
 "nbformat_minor": 0,
 "worksheets": [
  {
   "cells": [
    {
     "cell_type": "heading",
     "level": 1,
     "metadata": {},
     "source": [
      "Progress Report"
     ]
    },
    {
     "cell_type": "markdown",
     "metadata": {},
     "source": [
      "The following is an update on the progress of Obidroid in terms of development."
     ]
    },
    {
     "cell_type": "heading",
     "level": 2,
     "metadata": {},
     "source": [
      "Previous Feedback"
     ]
    },
    {
     "cell_type": "markdown",
     "metadata": {},
     "source": [
      "- \"Looking at the cluster analysis, the question is: what is special about the apps in cluster 1 and 7? \n",
      "  - You can look at those and then do something else with the other apps the are lumped together in 2-6. This might be worth digging into more.\n",
      "\n",
      "- Here is a way to better assess your classification algorithm. Split it into 50/50 positive and negative tests. \n",
      "   - Based on the clustering results, choose some of the harder to discriminate items to be the positive items you compare against. Then see how well the classification algorithm works on the 50-50 split.\""
     ]
    },
    {
     "cell_type": "heading",
     "level": 2,
     "metadata": {},
     "source": [
      "Data Preparation"
     ]
    },
    {
     "cell_type": "markdown",
     "metadata": {},
     "source": [
      "1. The data was prepared from previously extracted `exports/appFeatures.csv` using our `crawler` and `scraper` scripts. \n",
      "2. The data was then casted to appropriate datatypes explicitly to avoid any mistakes\n",
      "3. All variables in the data (i.e. the features) were then normalized using min-max normalization."
     ]
    },
    {
     "cell_type": "code",
     "collapsed": false,
     "input": [
      "\"\"\"\n",
      "Load the required libraries\n",
      "\"\"\"\n",
      "import pandas as pd\n",
      "import numpy as np\n",
      "from pandas import Series, DataFrame"
     ],
     "language": "python",
     "metadata": {},
     "outputs": [],
     "prompt_number": 5
    },
    {
     "cell_type": "code",
     "collapsed": false,
     "input": [
      "\"\"\"\n",
      "Load the dataset\n",
      "\"\"\"\n",
      "main_appData = pd.read_csv('exports/appFeatures.csv')"
     ],
     "language": "python",
     "metadata": {},
     "outputs": [],
     "prompt_number": 6
    },
    {
     "cell_type": "code",
     "collapsed": false,
     "input": [
      "\n",
      "def trimDataFrame(df):\n",
      "    \"\"\"\n",
      "    Lets create a new dataframe for appFeatures and appLabels\n",
      "    Also, cast the columns appropriately, to be extra careful\n",
      "    \"\"\"\n",
      "    \n",
      "    ## for App Features\n",
      "    appCols = set(df.columns)\n",
      "    appCols.remove('appName') # remove app Names column\n",
      "    appCols.remove('Unnamed: 7') # removing a weird unnamed column\n",
      "    # appCols.remove('appLabel') # removing the label column\n",
      "    appCols.remove('price') # removing price since most of the apps are free\n",
      "    appCols.remove('exclamationCount') # remove exclamation count from features, as all values seemed to be 0\n",
      "    \n",
      "    df_trim = df[list(appCols)]\n",
      "    \n",
      "    # -- boolean\n",
      "    df_trim['hasPrivacy'].astype(bool)\n",
      "    df_trim['hasDeveloperEmail'].astype(bool)\n",
      "    df_trim['hasDeveloperWebsite'].astype(bool)\n",
      "    \n",
      "    \n",
      "    # -- integer\n",
      "    df_trim['adjectiveCount'].astype(int)\n",
      "    df_trim['countCapital'].astype(int)\n",
      "    df_trim['installs'].astype(int)\n",
      "    df_trim['revSent'].astype(int)\n",
      "    df_trim['revLength'].astype(int)\n",
      "    \n",
      "    # -- float\n",
      "    df_trim['avgRating'].astype(float)\n",
      "    \n",
      "    return df_trim"
     ],
     "language": "python",
     "metadata": {},
     "outputs": [],
     "prompt_number": 7
    },
    {
     "cell_type": "code",
     "collapsed": false,
     "input": [
      "appDf = trimDataFrame(main_appData)"
     ],
     "language": "python",
     "metadata": {},
     "outputs": [],
     "prompt_number": 8
    },
    {
     "cell_type": "code",
     "collapsed": false,
     "input": [
      "print list(appDf.columns)"
     ],
     "language": "python",
     "metadata": {},
     "outputs": [
      {
       "output_type": "stream",
       "stream": "stdout",
       "text": [
        "['adjectiveCount', 'hasPrivacy', 'revLength', 'appLabel', 'countCapital', 'hasDeveloperWebsite', 'installs', 'hasDeveloperEmail', 'avgRating', 'revSent']\n"
       ]
      }
     ],
     "prompt_number": 9
    },
    {
     "cell_type": "code",
     "collapsed": false,
     "input": [
      "appDf.head()"
     ],
     "language": "python",
     "metadata": {},
     "outputs": [
      {
       "html": [
        "<div style=\"max-height:1000px;max-width:1500px;overflow:auto;\">\n",
        "<table border=\"1\" class=\"dataframe\">\n",
        "  <thead>\n",
        "    <tr style=\"text-align: right;\">\n",
        "      <th></th>\n",
        "      <th>adjectiveCount</th>\n",
        "      <th>hasPrivacy</th>\n",
        "      <th>revLength</th>\n",
        "      <th>appLabel</th>\n",
        "      <th>countCapital</th>\n",
        "      <th>hasDeveloperWebsite</th>\n",
        "      <th>installs</th>\n",
        "      <th>hasDeveloperEmail</th>\n",
        "      <th>avgRating</th>\n",
        "      <th>revSent</th>\n",
        "    </tr>\n",
        "  </thead>\n",
        "  <tbody>\n",
        "    <tr>\n",
        "      <th>0</th>\n",
        "      <td>  4</td>\n",
        "      <td>  True</td>\n",
        "      <td>  601</td>\n",
        "      <td> fair</td>\n",
        "      <td>  1</td>\n",
        "      <td> True</td>\n",
        "      <td> 30000000</td>\n",
        "      <td>  True</td>\n",
        "      <td> 4.051</td>\n",
        "      <td> -3</td>\n",
        "    </tr>\n",
        "    <tr>\n",
        "      <th>1</th>\n",
        "      <td> 13</td>\n",
        "      <td>  True</td>\n",
        "      <td> 1139</td>\n",
        "      <td> fair</td>\n",
        "      <td> 11</td>\n",
        "      <td> True</td>\n",
        "      <td> 30000000</td>\n",
        "      <td>  True</td>\n",
        "      <td> 4.351</td>\n",
        "      <td>  2</td>\n",
        "    </tr>\n",
        "    <tr>\n",
        "      <th>2</th>\n",
        "      <td> 23</td>\n",
        "      <td>  True</td>\n",
        "      <td> 2223</td>\n",
        "      <td> fair</td>\n",
        "      <td> 20</td>\n",
        "      <td> True</td>\n",
        "      <td>  3000000</td>\n",
        "      <td> False</td>\n",
        "      <td> 4.555</td>\n",
        "      <td> -4</td>\n",
        "    </tr>\n",
        "    <tr>\n",
        "      <th>3</th>\n",
        "      <td> 10</td>\n",
        "      <td> False</td>\n",
        "      <td>  804</td>\n",
        "      <td> fair</td>\n",
        "      <td>  5</td>\n",
        "      <td> True</td>\n",
        "      <td> 30000000</td>\n",
        "      <td>  True</td>\n",
        "      <td> 4.623</td>\n",
        "      <td>  8</td>\n",
        "    </tr>\n",
        "    <tr>\n",
        "      <th>4</th>\n",
        "      <td> 22</td>\n",
        "      <td>  True</td>\n",
        "      <td> 1867</td>\n",
        "      <td> fair</td>\n",
        "      <td> 16</td>\n",
        "      <td> True</td>\n",
        "      <td>  7500000</td>\n",
        "      <td> False</td>\n",
        "      <td> 4.046</td>\n",
        "      <td>-11</td>\n",
        "    </tr>\n",
        "  </tbody>\n",
        "</table>\n",
        "<p>5 rows \u00d7 10 columns</p>\n",
        "</div>"
       ],
       "metadata": {},
       "output_type": "pyout",
       "prompt_number": 10,
       "text": [
        "   adjectiveCount hasPrivacy  revLength appLabel  countCapital  \\\n",
        "0               4       True        601     fair             1   \n",
        "1              13       True       1139     fair            11   \n",
        "2              23       True       2223     fair            20   \n",
        "3              10      False        804     fair             5   \n",
        "4              22       True       1867     fair            16   \n",
        "\n",
        "  hasDeveloperWebsite  installs hasDeveloperEmail  avgRating  revSent  \n",
        "0                True  30000000              True      4.051       -3  \n",
        "1                True  30000000              True      4.351        2  \n",
        "2                True   3000000             False      4.555       -4  \n",
        "3                True  30000000              True      4.623        8  \n",
        "4                True   7500000             False      4.046      -11  \n",
        "\n",
        "[5 rows x 10 columns]"
       ]
      }
     ],
     "prompt_number": 10
    },
    {
     "cell_type": "code",
     "collapsed": false,
     "input": [
      "\"\"\"\n",
      "Randomly shuffle the dataframe henceforth\n",
      "\"\"\"\n",
      "\n",
      "def shuffleDataFrame(df):\n",
      "    return df.ix[np.random.permutation(appDf.index)]\n",
      "\n",
      "appDf = shuffleDataFrame(appDf)\n",
      "appDf.head()"
     ],
     "language": "python",
     "metadata": {},
     "outputs": [
      {
       "html": [
        "<div style=\"max-height:1000px;max-width:1500px;overflow:auto;\">\n",
        "<table border=\"1\" class=\"dataframe\">\n",
        "  <thead>\n",
        "    <tr style=\"text-align: right;\">\n",
        "      <th></th>\n",
        "      <th>adjectiveCount</th>\n",
        "      <th>hasPrivacy</th>\n",
        "      <th>revLength</th>\n",
        "      <th>appLabel</th>\n",
        "      <th>countCapital</th>\n",
        "      <th>hasDeveloperWebsite</th>\n",
        "      <th>installs</th>\n",
        "      <th>hasDeveloperEmail</th>\n",
        "      <th>avgRating</th>\n",
        "      <th>revSent</th>\n",
        "    </tr>\n",
        "  </thead>\n",
        "  <tbody>\n",
        "    <tr>\n",
        "      <th>218</th>\n",
        "      <td>  5</td>\n",
        "      <td>  True</td>\n",
        "      <td>  814</td>\n",
        "      <td> fair</td>\n",
        "      <td> 28</td>\n",
        "      <td> True</td>\n",
        "      <td> 3000000</td>\n",
        "      <td> True</td>\n",
        "      <td> 3.734</td>\n",
        "      <td> 0</td>\n",
        "    </tr>\n",
        "    <tr>\n",
        "      <th>177</th>\n",
        "      <td> 13</td>\n",
        "      <td>  True</td>\n",
        "      <td>  677</td>\n",
        "      <td> fair</td>\n",
        "      <td>  7</td>\n",
        "      <td> True</td>\n",
        "      <td> 3000000</td>\n",
        "      <td> True</td>\n",
        "      <td> 4.433</td>\n",
        "      <td> 3</td>\n",
        "    </tr>\n",
        "    <tr>\n",
        "      <th>40 </th>\n",
        "      <td>  5</td>\n",
        "      <td> False</td>\n",
        "      <td>  583</td>\n",
        "      <td> fair</td>\n",
        "      <td>  4</td>\n",
        "      <td> True</td>\n",
        "      <td>  300000</td>\n",
        "      <td> True</td>\n",
        "      <td> 3.903</td>\n",
        "      <td>-6</td>\n",
        "    </tr>\n",
        "    <tr>\n",
        "      <th>18 </th>\n",
        "      <td>  2</td>\n",
        "      <td> False</td>\n",
        "      <td>  225</td>\n",
        "      <td> fair</td>\n",
        "      <td>  2</td>\n",
        "      <td> True</td>\n",
        "      <td> 3000000</td>\n",
        "      <td> True</td>\n",
        "      <td> 2.611</td>\n",
        "      <td>-1</td>\n",
        "    </tr>\n",
        "    <tr>\n",
        "      <th>52 </th>\n",
        "      <td>  9</td>\n",
        "      <td> False</td>\n",
        "      <td> 1300</td>\n",
        "      <td> fair</td>\n",
        "      <td>  8</td>\n",
        "      <td> True</td>\n",
        "      <td>  300000</td>\n",
        "      <td> True</td>\n",
        "      <td> 3.601</td>\n",
        "      <td>-9</td>\n",
        "    </tr>\n",
        "  </tbody>\n",
        "</table>\n",
        "<p>5 rows \u00d7 10 columns</p>\n",
        "</div>"
       ],
       "metadata": {},
       "output_type": "pyout",
       "prompt_number": 11,
       "text": [
        "     adjectiveCount hasPrivacy  revLength appLabel  countCapital  \\\n",
        "218               5       True        814     fair            28   \n",
        "177              13       True        677     fair             7   \n",
        "40                5      False        583     fair             4   \n",
        "18                2      False        225     fair             2   \n",
        "52                9      False       1300     fair             8   \n",
        "\n",
        "    hasDeveloperWebsite  installs hasDeveloperEmail  avgRating  revSent  \n",
        "218                True   3000000              True      3.734        0  \n",
        "177                True   3000000              True      4.433        3  \n",
        "40                 True    300000              True      3.903       -6  \n",
        "18                 True   3000000              True      2.611       -1  \n",
        "52                 True    300000              True      3.601       -9  \n",
        "\n",
        "[5 rows x 10 columns]"
       ]
      }
     ],
     "prompt_number": 11
    },
    {
     "cell_type": "heading",
     "level": 2,
     "metadata": {},
     "source": [
      "Feature Exploration"
     ]
    },
    {
     "cell_type": "code",
     "collapsed": false,
     "input": [
      "%pylab inline"
     ],
     "language": "python",
     "metadata": {},
     "outputs": [
      {
       "output_type": "stream",
       "stream": "stdout",
       "text": [
        "Populating the interactive namespace from numpy and matplotlib\n"
       ]
      }
     ],
     "prompt_number": 12
    },
    {
     "cell_type": "code",
     "collapsed": false,
     "input": [
      "\"\"\"\n",
      "Loading the graphing / statistical libraries\n",
      "\"\"\"\n",
      "import seaborn as sns\n",
      "import matplotlib as mpl\n",
      "import matplotlib.pyplot as plt\n",
      "\n",
      "mpl.rc(\"figure\", figsize=(10, 10))"
     ],
     "language": "python",
     "metadata": {},
     "outputs": [],
     "prompt_number": 22
    },
    {
     "cell_type": "heading",
     "level": 3,
     "metadata": {},
     "source": [
      "Density Estimation"
     ]
    },
    {
     "cell_type": "code",
     "collapsed": false,
     "input": [
      "sns.kdeplot(appDf, shade=True)"
     ],
     "language": "python",
     "metadata": {},
     "outputs": [
      {
       "metadata": {},
       "output_type": "pyout",
       "prompt_number": 23,
       "text": [
        "<matplotlib.axes.AxesSubplot at 0x10bbb3b90>"
       ]
      },
      {
       "metadata": {},
       "output_type": "display_data",
       "png": "[encoded data removed]",
       "text": [
        "<matplotlib.figure.Figure at 0x10baf6790>"
       ]
      }
     ],
     "prompt_number": 23
    },
    {
     "cell_type": "heading",
     "level": 3,
     "metadata": {},
     "source": [
      "ViolinPlot"
     ]
    },
    {
     "cell_type": "code",
     "collapsed": false,
     "input": [
      "sns.violinplot(appDf)"
     ],
     "language": "python",
     "metadata": {},
     "outputs": [
      {
       "ename": "ValueError",
       "evalue": "could not convert string to float: fair",
       "output_type": "pyerr",
       "traceback": [
        "\u001b[0;31m---------------------------------------------------------------------------\u001b[0m\n\u001b[0;31mValueError\u001b[0m                                Traceback (most recent call last)",
        "\u001b[0;32m<ipython-input-24-3a21358082cf>\u001b[0m in \u001b[0;36m<module>\u001b[0;34m()\u001b[0m\n\u001b[0;32m----> 1\u001b[0;31m \u001b[0msns\u001b[0m\u001b[0;34m.\u001b[0m\u001b[0mviolinplot\u001b[0m\u001b[0;34m(\u001b[0m\u001b[0mappDf\u001b[0m\u001b[0;34m)\u001b[0m\u001b[0;34m\u001b[0m\u001b[0m\n\u001b[0m",
        "\u001b[0;32m/Users/shreyas/anaconda/lib/python2.7/site-packages/seaborn/distributions.pyc\u001b[0m in \u001b[0;36mviolinplot\u001b[0;34m(vals, groupby, inner, color, positions, names, order, kernel, bw, widths, alpha, join_rm, gridsize, cut, inner_kws, ax, **kwargs)\u001b[0m\n\u001b[1;32m    297\u001b[0m \u001b[0;34m\u001b[0m\u001b[0m\n\u001b[1;32m    298\u001b[0m     \u001b[0;31m# Reshape and find labels for the plot\u001b[0m\u001b[0;34m\u001b[0m\u001b[0;34m\u001b[0m\u001b[0m\n\u001b[0;32m--> 299\u001b[0;31m     \u001b[0mvals\u001b[0m\u001b[0;34m,\u001b[0m \u001b[0mxlabel\u001b[0m\u001b[0;34m,\u001b[0m \u001b[0mylabel\u001b[0m\u001b[0;34m,\u001b[0m \u001b[0mnames\u001b[0m \u001b[0;34m=\u001b[0m \u001b[0m_box_reshape\u001b[0m\u001b[0;34m(\u001b[0m\u001b[0mvals\u001b[0m\u001b[0;34m,\u001b[0m \u001b[0mgroupby\u001b[0m\u001b[0;34m,\u001b[0m \u001b[0mnames\u001b[0m\u001b[0;34m,\u001b[0m \u001b[0morder\u001b[0m\u001b[0;34m)\u001b[0m\u001b[0;34m\u001b[0m\u001b[0m\n\u001b[0m\u001b[1;32m    300\u001b[0m \u001b[0;34m\u001b[0m\u001b[0m\n\u001b[1;32m    301\u001b[0m     \u001b[0;31m# Sort out the plot colors\u001b[0m\u001b[0;34m\u001b[0m\u001b[0;34m\u001b[0m\u001b[0m\n",
        "\u001b[0;32m/Users/shreyas/anaconda/lib/python2.7/site-packages/seaborn/distributions.pyc\u001b[0m in \u001b[0;36m_box_reshape\u001b[0;34m(vals, groupby, names, order)\u001b[0m\n\u001b[1;32m     91\u001b[0m     \u001b[0;31m# The plotting functions will work with a list of arrays\u001b[0m\u001b[0;34m\u001b[0m\u001b[0;34m\u001b[0m\u001b[0m\n\u001b[1;32m     92\u001b[0m     \u001b[0;31m# The list allows each array to possibly be of a different length\u001b[0m\u001b[0;34m\u001b[0m\u001b[0;34m\u001b[0m\u001b[0m\n\u001b[0;32m---> 93\u001b[0;31m     \u001b[0mvals\u001b[0m \u001b[0;34m=\u001b[0m \u001b[0;34m[\u001b[0m\u001b[0mnp\u001b[0m\u001b[0;34m.\u001b[0m\u001b[0masarray\u001b[0m\u001b[0;34m(\u001b[0m\u001b[0ma\u001b[0m\u001b[0;34m,\u001b[0m \u001b[0mnp\u001b[0m\u001b[0;34m.\u001b[0m\u001b[0mfloat\u001b[0m\u001b[0;34m)\u001b[0m \u001b[0;32mfor\u001b[0m \u001b[0ma\u001b[0m \u001b[0;32min\u001b[0m \u001b[0mvals\u001b[0m\u001b[0;34m]\u001b[0m\u001b[0;34m\u001b[0m\u001b[0m\n\u001b[0m\u001b[1;32m     94\u001b[0m \u001b[0;34m\u001b[0m\u001b[0m\n\u001b[1;32m     95\u001b[0m     \u001b[0;32mreturn\u001b[0m \u001b[0mvals\u001b[0m\u001b[0;34m,\u001b[0m \u001b[0mxlabel\u001b[0m\u001b[0;34m,\u001b[0m \u001b[0mylabel\u001b[0m\u001b[0;34m,\u001b[0m \u001b[0mnames\u001b[0m\u001b[0;34m\u001b[0m\u001b[0m\n",
        "\u001b[0;32m/Users/shreyas/anaconda/lib/python2.7/site-packages/numpy/core/numeric.pyc\u001b[0m in \u001b[0;36masarray\u001b[0;34m(a, dtype, order)\u001b[0m\n\u001b[1;32m    458\u001b[0m \u001b[0;34m\u001b[0m\u001b[0m\n\u001b[1;32m    459\u001b[0m     \"\"\"\n\u001b[0;32m--> 460\u001b[0;31m     \u001b[0;32mreturn\u001b[0m \u001b[0marray\u001b[0m\u001b[0;34m(\u001b[0m\u001b[0ma\u001b[0m\u001b[0;34m,\u001b[0m \u001b[0mdtype\u001b[0m\u001b[0;34m,\u001b[0m \u001b[0mcopy\u001b[0m\u001b[0;34m=\u001b[0m\u001b[0mFalse\u001b[0m\u001b[0;34m,\u001b[0m \u001b[0morder\u001b[0m\u001b[0;34m=\u001b[0m\u001b[0morder\u001b[0m\u001b[0;34m)\u001b[0m\u001b[0;34m\u001b[0m\u001b[0m\n\u001b[0m\u001b[1;32m    461\u001b[0m \u001b[0;34m\u001b[0m\u001b[0m\n\u001b[1;32m    462\u001b[0m \u001b[0;32mdef\u001b[0m \u001b[0masanyarray\u001b[0m\u001b[0;34m(\u001b[0m\u001b[0ma\u001b[0m\u001b[0;34m,\u001b[0m \u001b[0mdtype\u001b[0m\u001b[0;34m=\u001b[0m\u001b[0mNone\u001b[0m\u001b[0;34m,\u001b[0m \u001b[0morder\u001b[0m\u001b[0;34m=\u001b[0m\u001b[0mNone\u001b[0m\u001b[0;34m)\u001b[0m\u001b[0;34m:\u001b[0m\u001b[0;34m\u001b[0m\u001b[0m\n",
        "\u001b[0;31mValueError\u001b[0m: could not convert string to float: fair"
       ]
      },
      {
       "metadata": {},
       "output_type": "display_data",
       "png": "[encoded data removed]",
       "text": [
        "<matplotlib.figure.Figure at 0x10baf5410>"
       ]
      }
     ],
     "prompt_number": 24
    },
    {
     "cell_type": "code",
     "collapsed": false,
     "input": [],
     "language": "python",
     "metadata": {},
     "outputs": []
    }
   ],
   "metadata": {}
  }
 ]
}